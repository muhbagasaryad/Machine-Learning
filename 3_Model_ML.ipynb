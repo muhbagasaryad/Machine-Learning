{
  "nbformat": 4,
  "nbformat_minor": 0,
  "metadata": {
    "colab": {
      "name": "3 Model ML.ipynb",
      "provenance": [],
      "authorship_tag": "ABX9TyPfeJhHjXH4XwI0WQ887V3H",
      "include_colab_link": true
    },
    "kernelspec": {
      "name": "python3",
      "display_name": "Python 3"
    },
    "language_info": {
      "name": "python"
    }
  },
  "cells": [
    {
      "cell_type": "markdown",
      "metadata": {
        "id": "view-in-github",
        "colab_type": "text"
      },
      "source": [
        "<a href=\"https://colab.research.google.com/github/muhbagasaryad/Machine-Learning/blob/main/3_Model_ML.ipynb\" target=\"_parent\"><img src=\"https://colab.research.google.com/assets/colab-badge.svg\" alt=\"Open In Colab\"/></a>"
      ]
    },
    {
      "cell_type": "code",
      "execution_count": 146,
      "metadata": {
        "id": "DrFf3AP_2VtR"
      },
      "outputs": [],
      "source": [
        "import numpy as np \n",
        "import pandas as pd # data processing, CSV file I/O (e.g. pd.read_csv)\n",
        "import matplotlib.pyplot as plt\n",
        "import seaborn as sns\n",
        "\n",
        "from sklearn import metrics"
      ]
    },
    {
      "cell_type": "code",
      "source": [
        "from google.colab import drive\n",
        "drive.mount('/content/drive')\n",
        "df = pd.read_csv('')"
      ],
      "metadata": {
        "id": "XoJPOj8Q3cUk"
      },
      "execution_count": null,
      "outputs": []
    },
    {
      "cell_type": "code",
      "source": [
        "df.head()"
      ],
      "metadata": {
        "id": "0MiOUJJD3c55"
      },
      "execution_count": null,
      "outputs": []
    },
    {
      "cell_type": "code",
      "source": [
        "df.info()"
      ],
      "metadata": {
        "id": "kRUEBOJo3epg"
      },
      "execution_count": null,
      "outputs": []
    },
    {
      "cell_type": "code",
      "source": [
        "df.shape"
      ],
      "metadata": {
        "id": "aiJdKmW_3enk"
      },
      "execution_count": null,
      "outputs": []
    },
    {
      "cell_type": "markdown",
      "source": [
        "### **Preprocessing Data**"
      ],
      "metadata": {
        "id": "WwKtTH963oE8"
      }
    },
    {
      "cell_type": "code",
      "source": [
        "#change object to float64\n",
        "df['Intensitas Curah Hujan (mm)'] = pd.to_numeric(df['Intensitas Curah Hujan (mm)'],errors = 'coerce')\n",
        "df.info()"
      ],
      "metadata": {
        "id": "QGJZq3MY3ek5"
      },
      "execution_count": null,
      "outputs": []
    },
    {
      "cell_type": "code",
      "source": [
        "df"
      ],
      "metadata": {
        "id": "y-vDEfRq3eff"
      },
      "execution_count": null,
      "outputs": []
    },
    {
      "cell_type": "code",
      "source": [
        "df['Kategori Banjir'].unique()"
      ],
      "metadata": {
        "id": "7ENUYcU-3ebl"
      },
      "execution_count": null,
      "outputs": []
    },
    {
      "cell_type": "code",
      "source": [
        "df.isnull().sum()"
      ],
      "metadata": {
        "id": "kqKxtXsb3eY5"
      },
      "execution_count": null,
      "outputs": []
    },
    {
      "cell_type": "code",
      "source": [
        "df.fillna((0), inplace = True)\n",
        "df.head()"
      ],
      "metadata": {
        "id": "Bb5bfE3y3eWW"
      },
      "execution_count": null,
      "outputs": []
    },
    {
      "cell_type": "code",
      "source": [
        "df.isnull().sum()"
      ],
      "metadata": {
        "id": "Ei69AveP3eTT"
      },
      "execution_count": null,
      "outputs": []
    },
    {
      "cell_type": "code",
      "source": [
        "banjir_df=df.drop(columns='Kategori Banjir')\n",
        "banjir_df.head()"
      ],
      "metadata": {
        "id": "sbwd3hJm3eRa"
      },
      "execution_count": null,
      "outputs": []
    },
    {
      "cell_type": "code",
      "source": [
        "banjir_df.describe()"
      ],
      "metadata": {
        "id": "MjtLCexy3eOL"
      },
      "execution_count": null,
      "outputs": []
    },
    {
      "cell_type": "code",
      "source": [
        "banjir_df.corr()"
      ],
      "metadata": {
        "id": "2XVuRKle3eLZ"
      },
      "execution_count": null,
      "outputs": []
    },
    {
      "cell_type": "code",
      "source": [
        "plt.figure(figsize=(8, 8))\n",
        "sns.heatmap(banjir_df.corr(),annot=True)"
      ],
      "metadata": {
        "id": "q_zDg4wv3eIS"
      },
      "execution_count": null,
      "outputs": []
    },
    {
      "cell_type": "code",
      "source": [
        "banjir_df.hist(figsize=(8,8))\n",
        "plt.show()"
      ],
      "metadata": {
        "id": "aGMBfzcUmGUw"
      },
      "execution_count": null,
      "outputs": []
    },
    {
      "cell_type": "code",
      "source": [
        "sns.scatterplot(x='Tinggi Muka Air (m)', y='Intensitas Curah Hujan (mm)', data=banjir_df)\n",
        "plt.tight_layout()"
      ],
      "metadata": {
        "id": "9rhusa9Wz9nt"
      },
      "execution_count": null,
      "outputs": []
    },
    {
      "cell_type": "code",
      "source": [
        "df['Kategori Banjir'].replace(['aman','Siaga1','Siaga2'],[0,1,2],inplace=True)\n",
        "df.head()"
      ],
      "metadata": {
        "id": "i1kWxIhj3_xW"
      },
      "execution_count": null,
      "outputs": []
    },
    {
      "cell_type": "code",
      "source": [
        "df['Kategori Banjir'].value_counts()"
      ],
      "metadata": {
        "id": "X83fApU04Aid"
      },
      "execution_count": null,
      "outputs": []
    },
    {
      "cell_type": "code",
      "source": [
        "#memisahkan data untuk prediksi\n",
        "x = df.iloc[:,1:3]\n",
        "x.head()"
      ],
      "metadata": {
        "id": "OnjhCBzN4Aft"
      },
      "execution_count": null,
      "outputs": []
    },
    {
      "cell_type": "code",
      "source": [
        "#memisahkan kolom kategori dari dataset\n",
        "y = df.iloc[:, -1]\n",
        "y.head()"
      ],
      "metadata": {
        "id": "zC2cYXNK4Ade"
      },
      "execution_count": null,
      "outputs": []
    },
    {
      "cell_type": "markdown",
      "source": [
        "### **Decision Tree**"
      ],
      "metadata": {
        "id": "LxpX2s8T4I-A"
      }
    },
    {
      "cell_type": "code",
      "source": [
        "import time\n",
        "\n",
        "start = time.time()\n",
        "from sklearn import model_selection\n",
        "from sklearn.model_selection import train_test_split\n",
        "from sklearn.metrics import accuracy_score,recall_score,confusion_matrix,plot_confusion_matrix\n",
        "x_train,x_test,y_train,y_test=train_test_split(x,y,test_size=0.4,random_state=0)\n",
        "print(\"Training dataset: \", x_train.shape[0])\n",
        "print(\"Test dataset: \", x_test.shape[0])"
      ],
      "metadata": {
        "id": "i4Pw_npO4Aal"
      },
      "execution_count": null,
      "outputs": []
    },
    {
      "cell_type": "code",
      "source": [
        "#data train\n",
        "x_train.head()"
      ],
      "metadata": {
        "id": "2V7YxXUZ4AXu"
      },
      "execution_count": null,
      "outputs": []
    },
    {
      "cell_type": "code",
      "source": [
        "y_train.head()"
      ],
      "metadata": {
        "id": "MMsI2U7y4AVK"
      },
      "execution_count": null,
      "outputs": []
    },
    {
      "cell_type": "code",
      "source": [
        "from sklearn.tree import DecisionTreeClassifier\n",
        "from sklearn.model_selection import cross_val_score\n",
        "dt_clf = DecisionTreeClassifier(max_depth=3, random_state=0)\n",
        "dt_clf.fit(x_train,y_train)\n",
        "dt_clf_acc = cross_val_score(dt_clf,x_train,y_train,cv=3,scoring=\"accuracy\",n_jobs=-1)\n",
        "dt_clf_acc"
      ],
      "metadata": {
        "id": "VCauth-b4AS2"
      },
      "execution_count": null,
      "outputs": []
    },
    {
      "cell_type": "code",
      "source": [
        "#Training Data\n",
        "y_pred = dt_clf.predict(x_train)\n",
        "print(\"\\naccuracy score:%f\"%(accuracy_score(y_train,y_pred)*100))"
      ],
      "metadata": {
        "id": "OQwIYS4a3_ou"
      },
      "execution_count": null,
      "outputs": []
    },
    {
      "cell_type": "code",
      "source": [
        "print('Confusion Matrix: \\n')\n",
        "print(plot_confusion_matrix(dt_clf, x_train, y_train))\n",
        "print(metrics.classification_report(y_train, y_pred))"
      ],
      "metadata": {
        "id": "mOINC9a9T1wF"
      },
      "execution_count": null,
      "outputs": []
    },
    {
      "cell_type": "code",
      "source": [
        "stop = time.time()\n",
        "print(f\"Training time: {stop - start}s\")"
      ],
      "metadata": {
        "id": "ULtyCjN0fPof"
      },
      "execution_count": null,
      "outputs": []
    },
    {
      "cell_type": "code",
      "source": [
        "#Predicted flood chances\n",
        "start1 = time.time()\n",
        "\n",
        "y_pred = dt_clf.predict(x_test)\n",
        "#print(y_pred)"
      ],
      "metadata": {
        "id": "YkPeFm6P3_iG"
      },
      "execution_count": 174,
      "outputs": []
    },
    {
      "cell_type": "code",
      "source": [
        "#Actual flood chances\n",
        "#print(\"actual values:\")\n",
        "#print(y_test.values)"
      ],
      "metadata": {
        "id": "2vBqSHSA3_f0"
      },
      "execution_count": 175,
      "outputs": []
    },
    {
      "cell_type": "code",
      "source": [
        "#Test Data\n",
        "print(\"\\naccuracy score:%f\"%(accuracy_score(y_test,y_pred)*100))"
      ],
      "metadata": {
        "id": "goN7Pono4Rwn"
      },
      "execution_count": null,
      "outputs": []
    },
    {
      "cell_type": "code",
      "source": [
        "#cm=confusion_matrix(y_test,y_pred)\n",
        "print('Confusion Matrix: \\n')\n",
        "print(plot_confusion_matrix(dt_clf, x_test, y_test))\n",
        "print(metrics.classification_report(y_test, y_pred))"
      ],
      "metadata": {
        "id": "aSopHgsQ4Rul"
      },
      "execution_count": null,
      "outputs": []
    },
    {
      "cell_type": "code",
      "source": [
        "stop1 = time.time()\n",
        "print(f\"Testing time: {stop1 - start1}s\")"
      ],
      "metadata": {
        "id": "eXIh3f8Fe-0n"
      },
      "execution_count": null,
      "outputs": []
    },
    {
      "cell_type": "code",
      "source": [
        "# Visualize the tree by graphiz\n",
        "import graphviz\n",
        "from sklearn import tree\n",
        "feature_names = ['Height (m)','Intensitas Hujan (mm)']\n",
        "dot_data = tree.export_graphviz(dt_clf, out_file=None, filled=True, rounded = True, feature_names=feature_names)\n",
        "graph = graphviz.Source(dot_data)\n",
        "graph"
      ],
      "metadata": {
        "id": "5WYISWnz4Rp1"
      },
      "execution_count": null,
      "outputs": []
    },
    {
      "cell_type": "code",
      "source": [
        "x_new=[[5,40]]\n",
        "pred = dt_clf.predict(x_new)\n",
        "pred"
      ],
      "metadata": {
        "id": "_t5Rqhdj4RnM"
      },
      "execution_count": null,
      "outputs": []
    },
    {
      "cell_type": "code",
      "source": [
        "import pickle\n",
        "pickle.dump(dt_clf, open('modeldt.pkl', 'wb'))\n",
        "model = pickle.load(open('modeldt.pkl', 'rb'))\n",
        "print(model)"
      ],
      "metadata": {
        "id": "fprstXPrPRPo"
      },
      "execution_count": null,
      "outputs": []
    },
    {
      "cell_type": "markdown",
      "source": [
        "### **Random Forest**"
      ],
      "metadata": {
        "id": "AEfjyzg24ney"
      }
    },
    {
      "cell_type": "code",
      "source": [
        "import time\n",
        "\n",
        "start2 = time.time()\n",
        "from sklearn.ensemble import RandomForestClassifier\n",
        "from sklearn.model_selection import train_test_split\n",
        "from sklearn.metrics import accuracy_score,recall_score,confusion_matrix,plot_confusion_matrix\n",
        "x_train,x_test,y_train,y_test=train_test_split(x,y,test_size=0.4)\n",
        "rf = RandomForestClassifier(n_estimators=100,max_depth=3,random_state=0)\n",
        "rf_clf = rf.fit(x_train,y_train)\n",
        "rf_clf"
      ],
      "metadata": {
        "id": "risAixez4Rk0"
      },
      "execution_count": null,
      "outputs": []
    },
    {
      "cell_type": "code",
      "source": [
        "print(\"Training dataset: \", x_train.shape[0])\n",
        "print(\"Test dataset: \", x_test.shape[0])"
      ],
      "metadata": {
        "id": "8-vSxyfSxasb"
      },
      "execution_count": null,
      "outputs": []
    },
    {
      "cell_type": "code",
      "source": [
        "from sklearn.model_selection import cross_val_score\n",
        "rf_clf_acc = cross_val_score(rf_clf,x_train,y_train,cv=3,scoring=\"accuracy\",n_jobs=-1)\n",
        "rf_clf_acc"
      ],
      "metadata": {
        "id": "Lz0q52zw4Ris"
      },
      "execution_count": null,
      "outputs": []
    },
    {
      "cell_type": "code",
      "source": [
        "y_pred = rf_clf.predict(x_train)"
      ],
      "metadata": {
        "id": "0F6opE444Rf5"
      },
      "execution_count": 185,
      "outputs": []
    },
    {
      "cell_type": "code",
      "source": [
        "#Training data\n",
        "print(\"\\naccuracy score:%f\"%(accuracy_score(y_train,y_pred)*100))"
      ],
      "metadata": {
        "id": "ghGqC78m4Rdm"
      },
      "execution_count": null,
      "outputs": []
    },
    {
      "cell_type": "code",
      "source": [
        "print('Confusion Matrix: \\n')\n",
        "print(plot_confusion_matrix(rf_clf, x_train, y_train))\n",
        "print(metrics.classification_report(y_train, y_pred))"
      ],
      "metadata": {
        "id": "lVE6aUu8Fuzm"
      },
      "execution_count": null,
      "outputs": []
    },
    {
      "cell_type": "code",
      "source": [
        "stop2 = time.time()\n",
        "print(f\"Training time: {stop2 - start2}s\")"
      ],
      "metadata": {
        "id": "AEKt6jT9eq7N"
      },
      "execution_count": null,
      "outputs": []
    },
    {
      "cell_type": "code",
      "source": [
        "start3 = time.time()\n",
        "\n",
        "y_pred = rf_clf.predict(x_test)"
      ],
      "metadata": {
        "id": "SNyWh1Qr4RYp"
      },
      "execution_count": 189,
      "outputs": []
    },
    {
      "cell_type": "code",
      "source": [
        "#Testing data\n",
        "print(\"\\naccuracy score:%f\"%(accuracy_score(y_test,y_pred)*100))"
      ],
      "metadata": {
        "id": "nFYhn_iA4RWS"
      },
      "execution_count": null,
      "outputs": []
    },
    {
      "cell_type": "code",
      "source": [
        "#cm=confusion_matrix(y_test,y_pred)\n",
        "print('Confusion Matrix: \\n')\n",
        "print(plot_confusion_matrix(rf_clf, x_test, y_test))\n",
        "print(metrics.classification_report(y_test, y_pred))"
      ],
      "metadata": {
        "id": "TEStpjSN4RSy"
      },
      "execution_count": null,
      "outputs": []
    },
    {
      "cell_type": "code",
      "source": [
        "stop3 = time.time()\n",
        "print(f\"Testing time: {stop3 - start3}s\")"
      ],
      "metadata": {
        "id": "AvKuMKAYe1SJ"
      },
      "execution_count": null,
      "outputs": []
    },
    {
      "cell_type": "code",
      "source": [
        "x_new=[[4,70]]\n",
        "pred = rf_clf.predict(x_new)\n",
        "pred"
      ],
      "metadata": {
        "id": "pJ10Lzi4hu_A"
      },
      "execution_count": null,
      "outputs": []
    },
    {
      "cell_type": "code",
      "source": [
        "import pickle\n",
        "pickle.dump(rf_clf, open('modelrf.pkl', 'wb'))\n",
        "model = pickle.load(open('modelrf.pkl', 'rb'))\n",
        "print(model)"
      ],
      "metadata": {
        "id": "5ClJrGi1PY5C"
      },
      "execution_count": null,
      "outputs": []
    },
    {
      "cell_type": "markdown",
      "source": [
        "### **Naive Bayes**"
      ],
      "metadata": {
        "id": "VYOMqdzC4-Sp"
      }
    },
    {
      "cell_type": "code",
      "source": [
        "import time\n",
        "\n",
        "start4 = time.time()\n",
        "from sklearn.model_selection import train_test_split\n",
        "from sklearn.metrics import accuracy_score,recall_score,roc_auc_score,confusion_matrix, plot_confusion_matrix\n",
        "x_train, x_test, y_train, y_test = train_test_split(x,y,test_size = 0.4,random_state = 0)\n",
        "print(\"Training dataset: \", x_train.shape[0])\n",
        "print(\"Test dataset: \", x_test.shape[0])"
      ],
      "metadata": {
        "id": "2tVv3pN74RQT"
      },
      "execution_count": null,
      "outputs": []
    },
    {
      "cell_type": "code",
      "source": [
        "from sklearn.feature_extraction.text import CountVectorizer\n",
        "from sklearn.naive_bayes import GaussianNB\n",
        "count_vector = CountVectorizer()\n",
        "training_data = count_vector.fit_transform(x_train)\n",
        "testing_data = count_vector.transform(x_test)\n",
        "naive_bayes = GaussianNB()"
      ],
      "metadata": {
        "id": "hrXSYCx_4RNQ"
      },
      "execution_count": 196,
      "outputs": []
    },
    {
      "cell_type": "code",
      "source": [
        "naive_bayes.fit(x_train,y_train)\n",
        "y_pred = naive_bayes.predict(x_train)"
      ],
      "metadata": {
        "id": "8wYmjiqcYk3j"
      },
      "execution_count": 197,
      "outputs": []
    },
    {
      "cell_type": "code",
      "source": [
        "#Training data\n",
        "print(\"\\naccuracy score:%f\"%(accuracy_score(y_train,y_pred)*100))"
      ],
      "metadata": {
        "id": "Fi87LgHqYEwO"
      },
      "execution_count": null,
      "outputs": []
    },
    {
      "cell_type": "code",
      "source": [
        "print('Confusion Matrix: \\n')\n",
        "print(plot_confusion_matrix(naive_bayes, x_train, y_train))\n",
        "print(metrics.classification_report(y_train, y_pred))"
      ],
      "metadata": {
        "id": "mUxPM07BSofs"
      },
      "execution_count": null,
      "outputs": []
    },
    {
      "cell_type": "code",
      "source": [
        "stop4 = time.time()\n",
        "print(f\"Training time: {stop4 - start4}s\")"
      ],
      "metadata": {
        "id": "6zsr29nveTPw"
      },
      "execution_count": null,
      "outputs": []
    },
    {
      "cell_type": "code",
      "source": [
        "start5 = time.time()\n",
        "\n",
        "naive_bayes.fit(x_train,y_train)\n",
        "y_pred = naive_bayes.predict(x_test)"
      ],
      "metadata": {
        "id": "MKJbZ9RE5MUu"
      },
      "execution_count": 201,
      "outputs": []
    },
    {
      "cell_type": "code",
      "source": [
        "#Testing data\n",
        "print(\"\\naccuracy score:%f\"%(accuracy_score(y_test,y_pred)*100))"
      ],
      "metadata": {
        "id": "sEbEQw865MQf"
      },
      "execution_count": null,
      "outputs": []
    },
    {
      "cell_type": "code",
      "source": [
        "#cm=confusion_matrix(y_test,y_pred)\n",
        "print('Confusion Matrix: \\n')\n",
        "print(plot_confusion_matrix(naive_bayes, x_test, y_test))\n",
        "print(metrics.classification_report(y_test, y_pred))"
      ],
      "metadata": {
        "id": "jlHkWDRI5MOf"
      },
      "execution_count": null,
      "outputs": []
    },
    {
      "cell_type": "code",
      "source": [
        "stop5 = time.time()\n",
        "print(f\"Testing time: {stop5 - start5}s\")"
      ],
      "metadata": {
        "id": "QIkxWEgdd7Rd"
      },
      "execution_count": null,
      "outputs": []
    },
    {
      "cell_type": "code",
      "source": [
        "x_new=[[7,40]]\n",
        "pred = naive_bayes.predict(x_new)\n",
        "pred"
      ],
      "metadata": {
        "id": "E40Zve-Bhyea"
      },
      "execution_count": null,
      "outputs": []
    },
    {
      "cell_type": "code",
      "source": [
        "import pickle\n",
        "pickle.dump(naive_bayes, open('modelgnb.pkl', 'wb'))\n",
        "model = pickle.load(open('modelgnb.pkl', 'rb'))\n",
        "print(model)"
      ],
      "metadata": {
        "id": "qXdwoG7XN5ed"
      },
      "execution_count": null,
      "outputs": []
    },
    {
      "cell_type": "markdown",
      "source": [
        "### **Visualisasi Data**"
      ],
      "metadata": {
        "id": "d70PUhG2AyTv"
      }
    },
    {
      "cell_type": "code",
      "source": [
        "sns.scatterplot(x='Tinggi Muka Air (m)', y='Intensitas Curah Hujan (mm)', data=df, hue='Kategori Banjir')\n",
        "plt.tight_layout()"
      ],
      "metadata": {
        "id": "S8fDVmrp5MBs"
      },
      "execution_count": null,
      "outputs": []
    },
    {
      "cell_type": "markdown",
      "source": [
        "### **Comparing 3 Model ML**"
      ],
      "metadata": {
        "id": "IbmeDrid_Ntw"
      }
    },
    {
      "cell_type": "code",
      "source": [
        "models = []\n",
        "from sklearn.tree import DecisionTreeClassifier\n",
        "from sklearn.ensemble import RandomForestClassifier\n",
        "from sklearn.naive_bayes import GaussianNB\n",
        "models.append(('DT', DecisionTreeClassifier()))\n",
        "models.append(('RF', RandomForestClassifier()))\n",
        "models.append(('NB', GaussianNB()))\n",
        "\n",
        "\n",
        "names = []\n",
        "scores = []\n",
        "for name, model in models:\n",
        "    model.fit(x_train, y_train)\n",
        "    y_pred = model.predict(x_test)\n",
        "    scores.append(accuracy_score(y_test, y_pred)*100)\n",
        "    names.append(name)\n",
        "tr_split = pd.DataFrame({'Name': names, 'Score': scores})\n",
        "print(tr_split)"
      ],
      "metadata": {
        "id": "UPoa4C6a5Q1u"
      },
      "execution_count": null,
      "outputs": []
    },
    {
      "cell_type": "code",
      "source": [
        "import seaborn as sns\n",
        "axis = sns.barplot(x = 'Name', y = 'Score', data =tr_split )\n",
        "axis.set(xlabel='Classifier', ylabel='Accuracy')\n",
        "for p in axis.patches:\n",
        "    height = p.get_height()\n",
        "    axis.text(p.get_x() + p.get_width()/2, height + 0.005, '{:1.4f}'.format(height), ha=\"center\") \n",
        "    \n",
        "plt.show()"
      ],
      "metadata": {
        "id": "225mgqAn-cb9"
      },
      "execution_count": null,
      "outputs": []
    }
  ]
}